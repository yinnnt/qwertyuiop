{
  "nbformat": 4,
  "nbformat_minor": 0,
  "metadata": {
    "colab": {
      "provenance": []
    },
    "kernelspec": {
      "name": "python3",
      "display_name": "Python 3"
    },
    "language_info": {
      "name": "python"
    }
  },
  "cells": [
    {
      "cell_type": "code",
      "execution_count": null,
      "metadata": {
        "colab": {
          "base_uri": "https://localhost:8080/"
        },
        "id": "PF609H2YiVbb",
        "outputId": "26a3b882-fe9d-4eaf-d37f-742af7533b42"
      },
      "outputs": [
        {
          "output_type": "stream",
          "name": "stdout",
          "text": [
            "1x1=1  1x2=2  1x3=3  1x4=4  1x5=5  1x6=6  1x7=7  1x8=8  1x9=9   \n",
            "2x1=2  2x2=4  2x3=6  2x4=8  2x5=10 2x6=12 2x7=14 2x8=16 2x9=18  \n",
            "3x1=3  3x2=6  3x3=9  3x4=12 3x5=15 3x6=18 3x7=21 3x8=24 3x9=27  \n",
            "4x1=4  4x2=8  4x3=12 4x4=16 4x5=20 4x6=24 4x7=28 4x8=32 4x9=36  \n",
            "5x1=5  5x2=10 5x3=15 5x4=20 5x5=25 5x6=30 5x7=35 5x8=40 5x9=45  \n",
            "6x1=6  6x2=12 6x3=18 6x4=24 6x5=30 6x6=36 6x7=42 6x8=48 6x9=54  \n",
            "7x1=7  7x2=14 7x3=21 7x4=28 7x5=35 7x6=42 7x7=49 7x8=56 7x9=63  \n",
            "8x1=8  8x2=16 8x3=24 8x4=32 8x5=40 8x6=48 8x7=56 8x8=64 8x9=72  \n",
            "9x1=9  9x2=18 9x3=27 9x4=36 9x5=45 9x6=54 9x7=63 9x8=72 9x9=81  \n"
          ]
        }
      ],
      "source": [
        "for i in range(1,10):\n",
        "  for j in range(1,10):\n",
        "    if(i*j)<10:\n",
        "      print(f'{i}x{j}={i*j}',end='  ')\n",
        "    else:\n",
        "     print(f'{i}x{j}={i*j}',end=' ')\n",
        "  print(' ')"
      ]
    },
    {
      "cell_type": "code",
      "source": [
        "i=1\n",
        "while i<10:\n",
        "  j=1\n",
        "  while j<10:\n",
        "    print('{}x{}={}\\t'.format(j,i,i*j),end=' ')\n",
        "    j+=1\n",
        "  print()\n",
        "  i+=1"
      ],
      "metadata": {
        "colab": {
          "base_uri": "https://localhost:8080/"
        },
        "id": "_Fg8FL7-prAb",
        "outputId": "38b4b97d-5943-4581-c2bb-c4944d61f519"
      },
      "execution_count": null,
      "outputs": [
        {
          "output_type": "stream",
          "name": "stdout",
          "text": [
            "1x1=1\t 2x1=2\t 3x1=3\t 4x1=4\t 5x1=5\t 6x1=6\t 7x1=7\t 8x1=8\t 9x1=9\t \n",
            "1x2=2\t 2x2=4\t 3x2=6\t 4x2=8\t 5x2=10\t 6x2=12\t 7x2=14\t 8x2=16\t 9x2=18\t \n",
            "1x3=3\t 2x3=6\t 3x3=9\t 4x3=12\t 5x3=15\t 6x3=18\t 7x3=21\t 8x3=24\t 9x3=27\t \n",
            "1x4=4\t 2x4=8\t 3x4=12\t 4x4=16\t 5x4=20\t 6x4=24\t 7x4=28\t 8x4=32\t 9x4=36\t \n",
            "1x5=5\t 2x5=10\t 3x5=15\t 4x5=20\t 5x5=25\t 6x5=30\t 7x5=35\t 8x5=40\t 9x5=45\t \n",
            "1x6=6\t 2x6=12\t 3x6=18\t 4x6=24\t 5x6=30\t 6x6=36\t 7x6=42\t 8x6=48\t 9x6=54\t \n",
            "1x7=7\t 2x7=14\t 3x7=21\t 4x7=28\t 5x7=35\t 6x7=42\t 7x7=49\t 8x7=56\t 9x7=63\t \n",
            "1x8=8\t 2x8=16\t 3x8=24\t 4x8=32\t 5x8=40\t 6x8=48\t 7x8=56\t 8x8=64\t 9x8=72\t \n",
            "1x9=9\t 2x9=18\t 3x9=27\t 4x9=36\t 5x9=45\t 6x9=54\t 7x9=63\t 8x9=72\t 9x9=81\t \n"
          ]
        }
      ]
    }
  ]
}