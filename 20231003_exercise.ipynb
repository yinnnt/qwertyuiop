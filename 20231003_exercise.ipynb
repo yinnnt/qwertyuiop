{
  "nbformat": 4,
  "nbformat_minor": 0,
  "metadata": {
    "colab": {
      "provenance": []
    },
    "kernelspec": {
      "name": "python3",
      "display_name": "Python 3"
    },
    "language_info": {
      "name": "python"
    }
  },
  "cells": [
    {
      "cell_type": "code",
      "execution_count": null,
      "metadata": {
        "colab": {
          "base_uri": "https://localhost:8080/"
        },
        "id": "47MA0tScdSTE",
        "outputId": "6f01f5e6-2174-4d9b-ef4b-3f652f9bdae4"
      },
      "outputs": [
        {
          "output_type": "stream",
          "name": "stdout",
          "text": [
            "A\n",
            "['K', 'H', 'U']\n"
          ]
        }
      ],
      "source": [
        "a='C,B,A'\n",
        "b=['F','G','H']\n",
        "c=a.split(',')\n",
        "c=c+b\n",
        "c[0]='K'\n",
        "print(c.pop(2))\n",
        "del c[1:4]\n",
        "c.append('U')\n",
        "print (c)"
      ]
    },
    {
      "cell_type": "code",
      "source": [
        "h=float(input('請輸入您的身高(公尺):'))\n",
        "w=float(input('請輸入您的體重(公斤):'))\n",
        "BMI=round(w/(h*h),3)\n",
        "print (BMI)\n",
        "if BMI<18.5:\n",
        "  print('過輕')\n",
        "elif BMI<24:\n",
        "  print('適中')\n",
        "elif BMI<27:\n",
        "  print('過重')\n",
        "else:\n",
        "  print('肥胖')"
      ],
      "metadata": {
        "colab": {
          "base_uri": "https://localhost:8080/"
        },
        "id": "8h21vq0oltXq",
        "outputId": "f1f3a604-d03b-49ad-b4ff-5155e31bea87"
      },
      "execution_count": null,
      "outputs": [
        {
          "output_type": "stream",
          "name": "stdout",
          "text": [
            "請輸入您的身高(公尺):1.73\n",
            "請輸入您的體重(公斤):57\n",
            "19.045\n",
            "適中\n"
          ]
        }
      ]
    }
  ]
}