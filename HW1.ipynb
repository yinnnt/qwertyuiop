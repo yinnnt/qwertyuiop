{
  "nbformat": 4,
  "nbformat_minor": 0,
  "metadata": {
    "colab": {
      "provenance": []
    },
    "kernelspec": {
      "name": "python3",
      "display_name": "Python 3"
    },
    "language_info": {
      "name": "python"
    }
  },
  "cells": [
    {
      "cell_type": "code",
      "execution_count": null,
      "metadata": {
        "colab": {
          "base_uri": "https://localhost:8080/"
        },
        "id": "UyE7kxILfhqo",
        "outputId": "6b2f00aa-b45a-43ff-8c53-15ceb4729969"
      },
      "outputs": [
        {
          "output_type": "stream",
          "name": "stdout",
          "text": [
            "hello world!!!!!!\n"
          ]
        }
      ],
      "source": [
        "x='hello world!!!!!!'\n",
        "print(x)\n"
      ]
    }
  ]
}