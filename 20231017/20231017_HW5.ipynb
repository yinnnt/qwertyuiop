{
  "nbformat": 4,
  "nbformat_minor": 0,
  "metadata": {
    "colab": {
      "provenance": []
    },
    "kernelspec": {
      "name": "python3",
      "display_name": "Python 3"
    },
    "language_info": {
      "name": "python"
    }
  },
  "cells": [
    {
      "cell_type": "code",
      "execution_count": 10,
      "metadata": {
        "colab": {
          "base_uri": "https://localhost:8080/"
        },
        "id": "qif886cvYnLN",
        "outputId": "4139df1d-1b0c-491b-9f57-c1c31cb226a3"
      },
      "outputs": [
        {
          "output_type": "stream",
          "name": "stdout",
          "text": [
            "        *\n",
            "       ***\n",
            "      *****\n",
            "     *******\n",
            "    *********\n",
            "   ***********\n",
            "  *************\n",
            " ***************\n",
            "*****************\n",
            "       ***\n",
            "       ***\n",
            "       ***\n",
            "       ***\n",
            "       ***\n"
          ]
        }
      ],
      "source": [
        "for i in range(1,15):\n",
        "  if i <=9:\n",
        "    print(' '*(9-i),end='')\n",
        "    for j in range(1,(2*i)):\n",
        "      print('*',end='')\n",
        "  else:\n",
        "    print(' '*7,end='')\n",
        "    print('*'*3)\n",
        "    continue\n",
        "  print()"
      ]
    },
    {
      "cell_type": "code",
      "source": [
        "import random\n",
        "a=random.sample(range(1,10),4)\n",
        "#print('答案:'+str(a))\n",
        "count_times = 1\n",
        "b = input('輸入四個數字(不會重複):')\n",
        "c = list(str(b))\n",
        "d = [int(i) for i in c]\n",
        "while d != a:\n",
        "  count_A = 0\n",
        "  count_B = 0\n",
        "  if count_times !=1 and len(d) == 4:\n",
        "    b = input('輸入四個數字(不會重複):')\n",
        "    c = list(str(b))\n",
        "    d = [int(i) for i in c]\n",
        "    if d == a:\n",
        "      print(str(b)+':4A0B')\n",
        "      print('答對了!總共猜了'+str(count_times)+'次')\n",
        "      break\n",
        "  elif count_times != 1 and len(d) > 4:\n",
        "   b = input('輸入數字過多，請輸入四個數字(不會重複):')\n",
        "   c = list(str(b))\n",
        "   d = [int(i) for i in c]\n",
        "  elif count_times != 1 and len (d) < 4:\n",
        "   b = input('輸入數字過少，請輸入四位數字(不會重複):')\n",
        "   c = list(str(b))\n",
        "   d = [int(i) for i in c]\n",
        "  if len(d) == 4:\n",
        "    count_times += 1\n",
        "    for m in range(len(d)):\n",
        "      for n in range(len(d)):\n",
        "        if d[m] == a[n] and m == n:\n",
        "          count_A += 1\n",
        "        elif d[m] == a[n] and m != n:\n",
        "          count_B += 1\n",
        "    print(str(b)+':'+str(count_A)+'A'+str(count_B)+'B')\n",
        "if d == a and count_times == 1:\n",
        "  print(str(b)+':4A0B')\n",
        "  print('答對了!總共猜了1次')"
      ],
      "metadata": {
        "colab": {
          "base_uri": "https://localhost:8080/"
        },
        "id": "bhXnd_tQcggl",
        "outputId": "4a313ddf-34f8-46e3-8a0c-2d8ffc912e32"
      },
      "execution_count": null,
      "outputs": [
        {
          "output_type": "stream",
          "name": "stdout",
          "text": [
            "輸入四個數字(不會重複):5678\n",
            "5678:1A0B\n",
            "輸入四個數字(不會重複):1234\n",
            "1234:0A2B\n",
            "輸入四個數字(不會重複):5296\n",
            "5296:0A3B\n",
            "輸入四個數字(不會重複):6175\n",
            "6175:0A1B\n"
          ]
        }
      ]
    }
  ]
}