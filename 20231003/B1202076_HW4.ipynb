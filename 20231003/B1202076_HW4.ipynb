{
  "nbformat": 4,
  "nbformat_minor": 0,
  "metadata": {
    "colab": {
      "provenance": []
    },
    "kernelspec": {
      "name": "python3",
      "display_name": "Python 3"
    },
    "language_info": {
      "name": "python"
    }
  },
  "cells": [
    {
      "cell_type": "code",
      "execution_count": null,
      "metadata": {
        "colab": {
          "base_uri": "https://localhost:8080/"
        },
        "id": "rI2Zcj8lw7Mv",
        "outputId": "d2fcb31e-62df-4263-b244-b7c833fe89b3"
      },
      "outputs": [
        {
          "output_type": "stream",
          "name": "stdout",
          "text": [
            "請輸入五個成績87 76 93 54 45\n",
            "72.33333333333333\n"
          ]
        }
      ],
      "source": [
        "a=input('請輸入五個成績')\n",
        "b=a.split(' ')\n",
        "b.remove(max(b))\n",
        "b.remove(min(b))\n",
        "c=(int(b[0])+int(b[1])+int(b[2]))/3\n",
        "print(c)\n"
      ]
    },
    {
      "cell_type": "code",
      "source": [
        "a=int(input('請輸入第一個數字'))\n",
        "b=int(input('請輸入第二個數字'))\n",
        "c=input('請輸入一個運算符號')\n",
        "if c == '+':\n",
        "   d = a+b\n",
        "elif c == '-':\n",
        "   d = a-b\n",
        "elif c == '*':\n",
        "   d = a*b\n",
        "else:\n",
        "   d = a/b\n",
        "print('計算結果＝',int(str(d)))"
      ],
      "metadata": {
        "colab": {
          "base_uri": "https://localhost:8080/"
        },
        "id": "ST4vIo5sxaGn",
        "outputId": "9ed921a1-70c4-4d18-fdd0-2bda6c3b44ee"
      },
      "execution_count": null,
      "outputs": [
        {
          "output_type": "stream",
          "name": "stdout",
          "text": [
            "請輸入第一個數字3\n",
            "請輸入第二個數字7\n",
            "請輸入一個運算符號*\n",
            "計算結果＝ 21\n"
          ]
        }
      ]
    },
    {
      "cell_type": "code",
      "source": [
        "a=int(input('請輸入一個年份：'))\n",
        "if a>=1582:\n",
        " if a%4==0 and((a%100!=0)or(a%400==0)):\n",
        "  print('此年為閏年')\n",
        " else:\n",
        "  print('此年為平年')\n",
        "elif a%4==0:\n",
        "  print('此年為閏年')\n",
        "else:\n",
        "  print('此年為平年')"
      ],
      "metadata": {
        "colab": {
          "base_uri": "https://localhost:8080/"
        },
        "id": "LQywUjE20uQS",
        "outputId": "f3842865-6e6f-4184-c896-e68e11415ab7"
      },
      "execution_count": null,
      "outputs": [
        {
          "output_type": "stream",
          "name": "stdout",
          "text": [
            "請輸入一個年份：2023\n",
            "此年為平年\n"
          ]
        }
      ]
    }
  ]
}